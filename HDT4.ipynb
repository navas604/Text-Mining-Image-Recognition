{
  "nbformat": 4,
  "nbformat_minor": 0,
  "metadata": {
    "colab": {
      "name": "HDT4.ipynb",
      "provenance": [],
      "collapsed_sections": [],
      "authorship_tag": "ABX9TyOmZSaaMm0lOdR+O5JDX0u7",
      "include_colab_link": true
    },
    "kernelspec": {
      "name": "python3",
      "display_name": "Python 3"
    },
    "language_info": {
      "name": "python"
    }
  },
  "cells": [
    {
      "cell_type": "markdown",
      "metadata": {
        "id": "view-in-github",
        "colab_type": "text"
      },
      "source": [
        "<a href=\"https://colab.research.google.com/github/navas604/Text-Mining-Image-Recognition/blob/main/HDT4.ipynb\" target=\"_parent\"><img src=\"https://colab.research.google.com/assets/colab-badge.svg\" alt=\"Open In Colab\"/></a>"
      ]
    },
    {
      "cell_type": "markdown",
      "metadata": {
        "id": "gcN8K3FIOmV8"
      },
      "source": [
        "## **Universidad Galileo**\n",
        "## **Maestría en Data Science**\n",
        "## **Text Mining & Image Recognition**\n",
        "## **Antonio Everardo Navas Contreras, 14003163**\n",
        "## **29/08/2021**\n",
        "\n",
        "---\n",
        "\n",
        "## **HOJA DE TRABAJO 4**\n",
        "\n",
        "---"
      ]
    },
    {
      "cell_type": "markdown",
      "metadata": {
        "id": "---Rx3yY-mCj"
      },
      "source": [
        "### CARGAR LIBRERÍAS"
      ]
    },
    {
      "cell_type": "code",
      "metadata": {
        "id": "72Ss7L_N4uQZ"
      },
      "source": [
        "import pandas as pd\n",
        "import spacy\n",
        "import numpy as np\n",
        "import re\n",
        "from collections import Counter\n",
        "from wordcloud import WordCloud, STOPWORDS\n",
        "import matplotlib.pyplot as plt"
      ],
      "execution_count": 1,
      "outputs": []
    },
    {
      "cell_type": "markdown",
      "metadata": {
        "id": "QVM0STvvAY2N"
      },
      "source": [
        "### MODELOS DE LENGUAJE"
      ]
    },
    {
      "cell_type": "code",
      "metadata": {
        "id": "MgupqFmrTT6i"
      },
      "source": [
        "!python -m spacy download es_core_news_sm"
      ],
      "execution_count": null,
      "outputs": []
    },
    {
      "cell_type": "code",
      "metadata": {
        "colab": {
          "base_uri": "https://localhost:8080/"
        },
        "id": "R2YOWy2_TbMM",
        "outputId": "aa3f4864-1486-4ec7-cc51-6e0c971efa47"
      },
      "source": [
        "import pkg_resources, imp\n",
        "imp.reload(pkg_resources)"
      ],
      "execution_count": 3,
      "outputs": [
        {
          "output_type": "execute_result",
          "data": {
            "text/plain": [
              "<module 'pkg_resources' from '/usr/local/lib/python3.7/dist-packages/pkg_resources/__init__.py'>"
            ]
          },
          "metadata": {},
          "execution_count": 3
        }
      ]
    },
    {
      "cell_type": "code",
      "metadata": {
        "id": "qikzDFyLQLds"
      },
      "source": [
        "nlp_en = spacy.load('en_core_web_sm')\n",
        "nlp_es = spacy.load(\"es_core_news_sm\")"
      ],
      "execution_count": 4,
      "outputs": []
    },
    {
      "cell_type": "markdown",
      "metadata": {
        "id": "ZmJS-vNyBBa-"
      },
      "source": [
        "### CARGAR EL DATASET"
      ]
    },
    {
      "cell_type": "code",
      "metadata": {
        "colab": {
          "base_uri": "https://localhost:8080/",
          "height": 204
        },
        "id": "cfETvq4k7A1D",
        "outputId": "eaa14814-15e0-4147-ce63-ed0a356f0e3b"
      },
      "source": [
        "URL = 'training.1600000.processed.noemoticon.csv'\n",
        "tweets_DF = pd.read_csv(URL, encoding='latin-1', usecols=[2, 4, 5] , names=['Timestamp', 'Username', 'Content'])\n",
        "tweets_DF.head()"
      ],
      "execution_count": 5,
      "outputs": [
        {
          "output_type": "execute_result",
          "data": {
            "text/html": [
              "<div>\n",
              "<style scoped>\n",
              "    .dataframe tbody tr th:only-of-type {\n",
              "        vertical-align: middle;\n",
              "    }\n",
              "\n",
              "    .dataframe tbody tr th {\n",
              "        vertical-align: top;\n",
              "    }\n",
              "\n",
              "    .dataframe thead th {\n",
              "        text-align: right;\n",
              "    }\n",
              "</style>\n",
              "<table border=\"1\" class=\"dataframe\">\n",
              "  <thead>\n",
              "    <tr style=\"text-align: right;\">\n",
              "      <th></th>\n",
              "      <th>Timestamp</th>\n",
              "      <th>Username</th>\n",
              "      <th>Content</th>\n",
              "    </tr>\n",
              "  </thead>\n",
              "  <tbody>\n",
              "    <tr>\n",
              "      <th>0</th>\n",
              "      <td>Mon Apr 06 22:19:45 PDT 2009</td>\n",
              "      <td>_TheSpecialOne_</td>\n",
              "      <td>@switchfoot http://twitpic.com/2y1zl - Awww, t...</td>\n",
              "    </tr>\n",
              "    <tr>\n",
              "      <th>1</th>\n",
              "      <td>Mon Apr 06 22:19:49 PDT 2009</td>\n",
              "      <td>scotthamilton</td>\n",
              "      <td>is upset that he can't update his Facebook by ...</td>\n",
              "    </tr>\n",
              "    <tr>\n",
              "      <th>2</th>\n",
              "      <td>Mon Apr 06 22:19:53 PDT 2009</td>\n",
              "      <td>mattycus</td>\n",
              "      <td>@Kenichan I dived many times for the ball. Man...</td>\n",
              "    </tr>\n",
              "    <tr>\n",
              "      <th>3</th>\n",
              "      <td>Mon Apr 06 22:19:57 PDT 2009</td>\n",
              "      <td>ElleCTF</td>\n",
              "      <td>my whole body feels itchy and like its on fire</td>\n",
              "    </tr>\n",
              "    <tr>\n",
              "      <th>4</th>\n",
              "      <td>Mon Apr 06 22:19:57 PDT 2009</td>\n",
              "      <td>Karoli</td>\n",
              "      <td>@nationwideclass no, it's not behaving at all....</td>\n",
              "    </tr>\n",
              "  </tbody>\n",
              "</table>\n",
              "</div>"
            ],
            "text/plain": [
              "                      Timestamp  ...                                            Content\n",
              "0  Mon Apr 06 22:19:45 PDT 2009  ...  @switchfoot http://twitpic.com/2y1zl - Awww, t...\n",
              "1  Mon Apr 06 22:19:49 PDT 2009  ...  is upset that he can't update his Facebook by ...\n",
              "2  Mon Apr 06 22:19:53 PDT 2009  ...  @Kenichan I dived many times for the ball. Man...\n",
              "3  Mon Apr 06 22:19:57 PDT 2009  ...    my whole body feels itchy and like its on fire \n",
              "4  Mon Apr 06 22:19:57 PDT 2009  ...  @nationwideclass no, it's not behaving at all....\n",
              "\n",
              "[5 rows x 3 columns]"
            ]
          },
          "metadata": {},
          "execution_count": 5
        }
      ]
    },
    {
      "cell_type": "code",
      "metadata": {
        "id": "DEhuCZWq9vIp"
      },
      "source": [
        "################################################### BORRAR ###################################################\n",
        "#tweets_DF = tweets_DF.head(1000)"
      ],
      "execution_count": 6,
      "outputs": []
    },
    {
      "cell_type": "code",
      "metadata": {
        "colab": {
          "base_uri": "https://localhost:8080/"
        },
        "id": "zPk5bJ5KF0KV",
        "outputId": "e66af77a-8d4c-4652-921a-9ae13ab79b90"
      },
      "source": [
        "tweets_DF.shape"
      ],
      "execution_count": 7,
      "outputs": [
        {
          "output_type": "execute_result",
          "data": {
            "text/plain": [
              "(1600000, 3)"
            ]
          },
          "metadata": {},
          "execution_count": 7
        }
      ]
    },
    {
      "cell_type": "markdown",
      "metadata": {
        "id": "yNfA_iJB-uMX"
      },
      "source": [
        "### TOP 3 USUARIOS MAS POPULARES (MENCIONADOS)"
      ]
    },
    {
      "cell_type": "code",
      "metadata": {
        "colab": {
          "base_uri": "https://localhost:8080/",
          "height": 176
        },
        "id": "0eZYCt70G5WX",
        "outputId": "be144ae2-c452-4f12-8a31-43fee4bac430"
      },
      "source": [
        "pattern = re.compile(r'@\\w+')\n",
        "\n",
        "mentions = pd.DataFrame(sum([pattern.findall(x) for x in tweets_DF.Content],[])).value_counts().rename_axis('Mentions').reset_index(name='Counts')\n",
        "top_3_mentions = mentions[:3]\n",
        "\n",
        "print('Los 3 usuarios más populares son:\\n')\n",
        "top_3_mentions"
      ],
      "execution_count": 8,
      "outputs": [
        {
          "output_type": "stream",
          "text": [
            "Los 3 usuarios más populares son:\n",
            "\n"
          ],
          "name": "stdout"
        },
        {
          "output_type": "execute_result",
          "data": {
            "text/html": [
              "<div>\n",
              "<style scoped>\n",
              "    .dataframe tbody tr th:only-of-type {\n",
              "        vertical-align: middle;\n",
              "    }\n",
              "\n",
              "    .dataframe tbody tr th {\n",
              "        vertical-align: top;\n",
              "    }\n",
              "\n",
              "    .dataframe thead th {\n",
              "        text-align: right;\n",
              "    }\n",
              "</style>\n",
              "<table border=\"1\" class=\"dataframe\">\n",
              "  <thead>\n",
              "    <tr style=\"text-align: right;\">\n",
              "      <th></th>\n",
              "      <th>Mentions</th>\n",
              "      <th>Counts</th>\n",
              "    </tr>\n",
              "  </thead>\n",
              "  <tbody>\n",
              "    <tr>\n",
              "      <th>0</th>\n",
              "      <td>@mileycyrus</td>\n",
              "      <td>4500</td>\n",
              "    </tr>\n",
              "    <tr>\n",
              "      <th>1</th>\n",
              "      <td>@tommcfly</td>\n",
              "      <td>3887</td>\n",
              "    </tr>\n",
              "    <tr>\n",
              "      <th>2</th>\n",
              "      <td>@ddlovato</td>\n",
              "      <td>3467</td>\n",
              "    </tr>\n",
              "  </tbody>\n",
              "</table>\n",
              "</div>"
            ],
            "text/plain": [
              "      Mentions  Counts\n",
              "0  @mileycyrus    4500\n",
              "1    @tommcfly    3887\n",
              "2    @ddlovato    3467"
            ]
          },
          "metadata": {},
          "execution_count": 8
        }
      ]
    },
    {
      "cell_type": "markdown",
      "metadata": {
        "id": "v6o2t0iG-ztN"
      },
      "source": [
        "### CORPUS"
      ]
    },
    {
      "cell_type": "code",
      "metadata": {
        "id": "VIWiFlO-14ZD"
      },
      "source": [
        "top_3_list = []\n",
        "for user in range(len(top_3_mentions)):\n",
        "  user_data = tweets_DF.loc[tweets_DF.Content.str.contains(top_3_mentions.Mentions[user])]\n",
        "  user_data = user_data.reindex(columns = ['Content', 'Username', 'Timestamp'])\n",
        "  user_data['Tweet_Length'] = user_data.Content.str.len() - len(top_3_mentions.Mentions[user] + ' ')\n",
        "  top_3_list.append(user_data)"
      ],
      "execution_count": 9,
      "outputs": []
    },
    {
      "cell_type": "code",
      "metadata": {
        "colab": {
          "base_uri": "https://localhost:8080/",
          "height": 204
        },
        "id": "sxA2BP60xpy0",
        "outputId": "c29e1336-ec5e-4e63-d164-4b2dfd8fa0c4"
      },
      "source": [
        "top_user1 = pd.DataFrame(top_3_list[0])\n",
        "top_user1.head()"
      ],
      "execution_count": 40,
      "outputs": [
        {
          "output_type": "execute_result",
          "data": {
            "text/html": [
              "<div>\n",
              "<style scoped>\n",
              "    .dataframe tbody tr th:only-of-type {\n",
              "        vertical-align: middle;\n",
              "    }\n",
              "\n",
              "    .dataframe tbody tr th {\n",
              "        vertical-align: top;\n",
              "    }\n",
              "\n",
              "    .dataframe thead th {\n",
              "        text-align: right;\n",
              "    }\n",
              "</style>\n",
              "<table border=\"1\" class=\"dataframe\">\n",
              "  <thead>\n",
              "    <tr style=\"text-align: right;\">\n",
              "      <th></th>\n",
              "      <th>Content</th>\n",
              "      <th>Username</th>\n",
              "      <th>Timestamp</th>\n",
              "      <th>Tweet_Length</th>\n",
              "    </tr>\n",
              "  </thead>\n",
              "  <tbody>\n",
              "    <tr>\n",
              "      <th>1021</th>\n",
              "      <td>@mileycyrus hahaha dont be like that one time ...</td>\n",
              "      <td>kristenn_lynn</td>\n",
              "      <td>Mon Apr 06 23:30:57 PDT 2009</td>\n",
              "      <td>95</td>\n",
              "    </tr>\n",
              "    <tr>\n",
              "      <th>2014</th>\n",
              "      <td>@mileycyrus i have the same problem, but it's ...</td>\n",
              "      <td>nathiuria</td>\n",
              "      <td>Tue Apr 07 00:45:20 PDT 2009</td>\n",
              "      <td>125</td>\n",
              "    </tr>\n",
              "    <tr>\n",
              "      <th>2073</th>\n",
              "      <td>@mileycyrus I guess counting sheep didn't work...</td>\n",
              "      <td>amyamoore</td>\n",
              "      <td>Tue Apr 07 00:49:07 PDT 2009</td>\n",
              "      <td>60</td>\n",
              "    </tr>\n",
              "    <tr>\n",
              "      <th>2080</th>\n",
              "      <td>@mileycyrus I would too if it meant spending a...</td>\n",
              "      <td>xdokkenx</td>\n",
              "      <td>Tue Apr 07 00:49:44 PDT 2009</td>\n",
              "      <td>88</td>\n",
              "    </tr>\n",
              "    <tr>\n",
              "      <th>2156</th>\n",
              "      <td>@mileycyrus AWWW u seriously have the cutest d...</td>\n",
              "      <td>XFearLessX</td>\n",
              "      <td>Tue Apr 07 00:56:41 PDT 2009</td>\n",
              "      <td>100</td>\n",
              "    </tr>\n",
              "  </tbody>\n",
              "</table>\n",
              "</div>"
            ],
            "text/plain": [
              "                                                Content  ... Tweet_Length\n",
              "1021  @mileycyrus hahaha dont be like that one time ...  ...           95\n",
              "2014  @mileycyrus i have the same problem, but it's ...  ...          125\n",
              "2073  @mileycyrus I guess counting sheep didn't work...  ...           60\n",
              "2080  @mileycyrus I would too if it meant spending a...  ...           88\n",
              "2156  @mileycyrus AWWW u seriously have the cutest d...  ...          100\n",
              "\n",
              "[5 rows x 4 columns]"
            ]
          },
          "metadata": {},
          "execution_count": 40
        }
      ]
    },
    {
      "cell_type": "code",
      "metadata": {
        "colab": {
          "base_uri": "https://localhost:8080/",
          "height": 204
        },
        "id": "Fc5SSvyQaGo5",
        "outputId": "7b1bd6d8-f676-4574-c0e3-3f5216a15805"
      },
      "source": [
        "top_user2 = pd.DataFrame(top_3_list[1])\n",
        "top_user2.head()"
      ],
      "execution_count": 41,
      "outputs": [
        {
          "output_type": "execute_result",
          "data": {
            "text/html": [
              "<div>\n",
              "<style scoped>\n",
              "    .dataframe tbody tr th:only-of-type {\n",
              "        vertical-align: middle;\n",
              "    }\n",
              "\n",
              "    .dataframe tbody tr th {\n",
              "        vertical-align: top;\n",
              "    }\n",
              "\n",
              "    .dataframe thead th {\n",
              "        text-align: right;\n",
              "    }\n",
              "</style>\n",
              "<table border=\"1\" class=\"dataframe\">\n",
              "  <thead>\n",
              "    <tr style=\"text-align: right;\">\n",
              "      <th></th>\n",
              "      <th>Content</th>\n",
              "      <th>Username</th>\n",
              "      <th>Timestamp</th>\n",
              "      <th>Tweet_Length</th>\n",
              "    </tr>\n",
              "  </thead>\n",
              "  <tbody>\n",
              "    <tr>\n",
              "      <th>1690</th>\n",
              "      <td>@tommcfly hey saw u guys play @ pushover..didn...</td>\n",
              "      <td>mcsteph94</td>\n",
              "      <td>Tue Apr 07 00:19:09 PDT 2009</td>\n",
              "      <td>128</td>\n",
              "    </tr>\n",
              "    <tr>\n",
              "      <th>1789</th>\n",
              "      <td>@tommcfly Good morning Tom! Why can't I send y...</td>\n",
              "      <td>mcflyholland</td>\n",
              "      <td>Tue Apr 07 00:26:52 PDT 2009</td>\n",
              "      <td>121</td>\n",
              "    </tr>\n",
              "    <tr>\n",
              "      <th>2514</th>\n",
              "      <td>@tommcfly did you know that johnsons baby use ...</td>\n",
              "      <td>ckstarlet</td>\n",
              "      <td>Tue Apr 07 01:23:07 PDT 2009</td>\n",
              "      <td>86</td>\n",
              "    </tr>\n",
              "    <tr>\n",
              "      <th>3029</th>\n",
              "      <td>@dougiemcfly @tommcfly good morning guys, how ...</td>\n",
              "      <td>McFLYBelgium</td>\n",
              "      <td>Tue Apr 07 02:03:41 PDT 2009</td>\n",
              "      <td>98</td>\n",
              "    </tr>\n",
              "    <tr>\n",
              "      <th>3524</th>\n",
              "      <td>@tommcfly hey, no chance of adding brighton or...</td>\n",
              "      <td>lilmissvik</td>\n",
              "      <td>Tue Apr 07 02:46:02 PDT 2009</td>\n",
              "      <td>121</td>\n",
              "    </tr>\n",
              "  </tbody>\n",
              "</table>\n",
              "</div>"
            ],
            "text/plain": [
              "                                                Content  ... Tweet_Length\n",
              "1690  @tommcfly hey saw u guys play @ pushover..didn...  ...          128\n",
              "1789  @tommcfly Good morning Tom! Why can't I send y...  ...          121\n",
              "2514  @tommcfly did you know that johnsons baby use ...  ...           86\n",
              "3029  @dougiemcfly @tommcfly good morning guys, how ...  ...           98\n",
              "3524  @tommcfly hey, no chance of adding brighton or...  ...          121\n",
              "\n",
              "[5 rows x 4 columns]"
            ]
          },
          "metadata": {},
          "execution_count": 41
        }
      ]
    },
    {
      "cell_type": "code",
      "metadata": {
        "colab": {
          "base_uri": "https://localhost:8080/",
          "height": 204
        },
        "id": "keAwbsKPaGl0",
        "outputId": "4f72ffb0-ca04-462e-9c21-225ae6d52ab8"
      },
      "source": [
        "top_user3 = pd.DataFrame(top_3_list[2])\n",
        "top_user3.head()"
      ],
      "execution_count": 42,
      "outputs": [
        {
          "output_type": "execute_result",
          "data": {
            "text/html": [
              "<div>\n",
              "<style scoped>\n",
              "    .dataframe tbody tr th:only-of-type {\n",
              "        vertical-align: middle;\n",
              "    }\n",
              "\n",
              "    .dataframe tbody tr th {\n",
              "        vertical-align: top;\n",
              "    }\n",
              "\n",
              "    .dataframe thead th {\n",
              "        text-align: right;\n",
              "    }\n",
              "</style>\n",
              "<table border=\"1\" class=\"dataframe\">\n",
              "  <thead>\n",
              "    <tr style=\"text-align: right;\">\n",
              "      <th></th>\n",
              "      <th>Content</th>\n",
              "      <th>Username</th>\n",
              "      <th>Timestamp</th>\n",
              "      <th>Tweet_Length</th>\n",
              "    </tr>\n",
              "  </thead>\n",
              "  <tbody>\n",
              "    <tr>\n",
              "      <th>460</th>\n",
              "      <td>@ddlovato @David_Henrie ummmmm i cant find it.</td>\n",
              "      <td>toritor11</td>\n",
              "      <td>Mon Apr 06 22:51:34 PDT 2009</td>\n",
              "      <td>37</td>\n",
              "    </tr>\n",
              "    <tr>\n",
              "      <th>573</th>\n",
              "      <td>@ddlovato Do you hate us?? Please don't</td>\n",
              "      <td>lovatolover</td>\n",
              "      <td>Mon Apr 06 22:58:30 PDT 2009</td>\n",
              "      <td>30</td>\n",
              "    </tr>\n",
              "    <tr>\n",
              "      <th>7032</th>\n",
              "      <td>@ddlovato Wish that i could see it..  Thats th...</td>\n",
              "      <td>mariapersson</td>\n",
              "      <td>Tue Apr 07 07:02:58 PDT 2009</td>\n",
              "      <td>86</td>\n",
              "    </tr>\n",
              "    <tr>\n",
              "      <th>7089</th>\n",
              "      <td>@ddlovato hey demi, wen are you and selena gon...</td>\n",
              "      <td>xxBEJEALOUSxx</td>\n",
              "      <td>Tue Apr 07 07:05:11 PDT 2009</td>\n",
              "      <td>69</td>\n",
              "    </tr>\n",
              "    <tr>\n",
              "      <th>8611</th>\n",
              "      <td>@ddlovato ahhhh i wish i could go to the dalla...</td>\n",
              "      <td>Julie_Dances</td>\n",
              "      <td>Fri Apr 17 20:31:31 PDT 2009</td>\n",
              "      <td>75</td>\n",
              "    </tr>\n",
              "  </tbody>\n",
              "</table>\n",
              "</div>"
            ],
            "text/plain": [
              "                                                Content  ... Tweet_Length\n",
              "460     @ddlovato @David_Henrie ummmmm i cant find it.   ...           37\n",
              "573            @ddlovato Do you hate us?? Please don't   ...           30\n",
              "7032  @ddlovato Wish that i could see it..  Thats th...  ...           86\n",
              "7089  @ddlovato hey demi, wen are you and selena gon...  ...           69\n",
              "8611  @ddlovato ahhhh i wish i could go to the dalla...  ...           75\n",
              "\n",
              "[5 rows x 4 columns]"
            ]
          },
          "metadata": {},
          "execution_count": 42
        }
      ]
    },
    {
      "cell_type": "markdown",
      "metadata": {
        "id": "1F28NJ-L-eJb"
      },
      "source": [
        "### NORMALIZACIÓN DE TEXTO"
      ]
    },
    {
      "cell_type": "code",
      "metadata": {
        "id": "_nqBGv70DoP_"
      },
      "source": [
        "def normalizacion(corpus):\n",
        "  newCorpus = []\n",
        "  for doc in corpus:\n",
        "      #newCorpus.append(re.sub(r'[^@\\w+a-zA-Z0-9\\s{1}áéíóúüñÁÉÍÓÚ]', '', doc).lower().strip().rstrip('\\n').rstrip('\\r\\n'))\n",
        "      temp = re.sub(r'@\\w+', '', doc).lower().strip().rstrip('\\n').rstrip('\\r\\n')\n",
        "      newCorpus.append(re.sub(r'[^a-zA-Z0-9\\s{1}áéíóúüñÁÉÍÓÚ]', '', temp))\n",
        "  return newCorpus"
      ],
      "execution_count": 13,
      "outputs": []
    },
    {
      "cell_type": "code",
      "metadata": {
        "id": "fpSDYX9JFCEK"
      },
      "source": [
        "corpus1 = top_user1.Content\n",
        "corpus2 = top_user2.Content\n",
        "corpus3 = top_user3.Content"
      ],
      "execution_count": 14,
      "outputs": []
    },
    {
      "cell_type": "code",
      "metadata": {
        "id": "mX7TgznaIrEV"
      },
      "source": [
        "corpus1 = normalizacion(corpus1)\n",
        "#corpus1"
      ],
      "execution_count": null,
      "outputs": []
    },
    {
      "cell_type": "code",
      "metadata": {
        "id": "W_BhZmhVD2ng"
      },
      "source": [
        "corpus2 = normalizacion(corpus2)\n",
        "#corpus2"
      ],
      "execution_count": null,
      "outputs": []
    },
    {
      "cell_type": "code",
      "metadata": {
        "id": "pK44d_jwD4zu"
      },
      "source": [
        "corpus3 = normalizacion(corpus3)\n",
        "#corpus3"
      ],
      "execution_count": null,
      "outputs": []
    },
    {
      "cell_type": "markdown",
      "metadata": {
        "id": "H8QP1zRWElMw"
      },
      "source": [
        "### TOKENIZACIÓN"
      ]
    },
    {
      "cell_type": "code",
      "metadata": {
        "id": "BlF25bZLEEHv"
      },
      "source": [
        "def tokenizacion(corpus):\n",
        "  newCorpus = []\n",
        "  for doc in corpus:\n",
        "      newCorpus.append(nlp_en(doc))\n",
        "  return newCorpus"
      ],
      "execution_count": 18,
      "outputs": []
    },
    {
      "cell_type": "code",
      "metadata": {
        "id": "nSaLpEA8E0Ka"
      },
      "source": [
        "corpus1 = tokenizacion(corpus1)\n",
        "#corpus1"
      ],
      "execution_count": null,
      "outputs": []
    },
    {
      "cell_type": "code",
      "metadata": {
        "id": "0RHGaR2RE6_f"
      },
      "source": [
        "corpus2 = tokenizacion(corpus2)\n",
        "#corpus2"
      ],
      "execution_count": null,
      "outputs": []
    },
    {
      "cell_type": "code",
      "metadata": {
        "id": "wrjN3sJaFyzf"
      },
      "source": [
        "corpus3 = tokenizacion(corpus3)\n",
        "#corpus3"
      ],
      "execution_count": null,
      "outputs": []
    },
    {
      "cell_type": "markdown",
      "metadata": {
        "id": "4J7-Zs6fF8NS"
      },
      "source": [
        "### REMOVER STOPWORDS"
      ]
    },
    {
      "cell_type": "code",
      "metadata": {
        "id": "iN-1BIioF1C2"
      },
      "source": [
        "def removeStops(corpus):\n",
        "  newCorpus = []\n",
        "  for doc in corpus:\n",
        "    s = \"\"\n",
        "    for token in doc:\n",
        "      if(token.is_stop == False):\n",
        "        s = s + token.text + \" \"\n",
        "    newCorpus.append(s.strip())\n",
        "  return newCorpus"
      ],
      "execution_count": 22,
      "outputs": []
    },
    {
      "cell_type": "code",
      "metadata": {
        "id": "fTovQ4OYGiFX"
      },
      "source": [
        "corpus1 = removeStops(corpus1)\n",
        "#corpus1"
      ],
      "execution_count": null,
      "outputs": []
    },
    {
      "cell_type": "code",
      "metadata": {
        "id": "VgdhphVzG--h"
      },
      "source": [
        "corpus2 = removeStops(corpus2)\n",
        "#corpus2"
      ],
      "execution_count": null,
      "outputs": []
    },
    {
      "cell_type": "code",
      "metadata": {
        "id": "WiwIILR4HDb3"
      },
      "source": [
        "corpus3 = removeStops(corpus3)\n",
        "#corpus3"
      ],
      "execution_count": null,
      "outputs": []
    },
    {
      "cell_type": "markdown",
      "metadata": {
        "id": "KhCNNllcHN-u"
      },
      "source": [
        "### STEMMING Y LEMMATIZATION"
      ]
    },
    {
      "cell_type": "code",
      "metadata": {
        "id": "ZMPR51XjHGpY"
      },
      "source": [
        "def stemmingLemmating(corpus):\n",
        "  documents = tokenizacion(corpus)\n",
        "  newCorpus = []\n",
        "  for doc in documents:\n",
        "    s = \"\"\n",
        "    for token in doc:\n",
        "      s = s + token.lemma_ + \" \"\n",
        "    newCorpus.append(s.strip())\n",
        "  return newCorpus"
      ],
      "execution_count": 26,
      "outputs": []
    },
    {
      "cell_type": "code",
      "metadata": {
        "id": "xG-_1uUwHb-2"
      },
      "source": [
        "corpus1 = stemmingLemmating(corpus1)\n",
        "#corpus1"
      ],
      "execution_count": null,
      "outputs": []
    },
    {
      "cell_type": "code",
      "metadata": {
        "id": "x10SQWhUHgmH"
      },
      "source": [
        "corpus2 = stemmingLemmating(corpus2)\n",
        "#corpus2"
      ],
      "execution_count": null,
      "outputs": []
    },
    {
      "cell_type": "code",
      "metadata": {
        "id": "QGaL_HF-HtZO"
      },
      "source": [
        "corpus3 = stemmingLemmating(corpus3)\n",
        "#corpus3"
      ],
      "execution_count": null,
      "outputs": []
    },
    {
      "cell_type": "markdown",
      "metadata": {
        "id": "aLyxKBCf6BBV"
      },
      "source": [
        "### PALABRAS REPRESENTATIVAS"
      ]
    },
    {
      "cell_type": "code",
      "metadata": {
        "id": "yO4DzyMUHu3U"
      },
      "source": [
        "def listToString(s):\n",
        "    strX = \"\"\n",
        "    for palabra in s:\n",
        "        strX = strX + palabra + \" \"\n",
        "    return strX"
      ],
      "execution_count": 30,
      "outputs": []
    },
    {
      "cell_type": "code",
      "metadata": {
        "id": "Q0OY6dmc_8lm"
      },
      "source": [
        "def rep_words(strCorpus, k):\n",
        "  #strCorpus = listToString(corpus).split()\n",
        "  most_common = pd.DataFrame(Counter(strCorpus.split()).most_common(k), columns=['Word', 'Count'])\n",
        "  return most_common"
      ],
      "execution_count": 31,
      "outputs": []
    },
    {
      "cell_type": "code",
      "metadata": {
        "id": "1d2HEn_bAhSr"
      },
      "source": [
        "k = 15"
      ],
      "execution_count": 32,
      "outputs": []
    },
    {
      "cell_type": "code",
      "metadata": {
        "colab": {
          "base_uri": "https://localhost:8080/",
          "height": 548
        },
        "id": "_wDqYSfBBUCx",
        "outputId": "b4dc49fa-9099-4a95-c545-10e690bddfb9"
      },
      "source": [
        "strCorpus1 = listToString(corpus1)\n",
        "\n",
        "print('Palabras mas utilizadas para ' + top_3_mentions.Mentions[0] + '\\n')\n",
        "rep_words(strCorpus1, k)"
      ],
      "execution_count": 45,
      "outputs": [
        {
          "output_type": "stream",
          "text": [
            "Palabras mas utilizadas para @mileycyrus\n",
            "\n"
          ],
          "name": "stdout"
        },
        {
          "output_type": "execute_result",
          "data": {
            "text/html": [
              "<div>\n",
              "<style scoped>\n",
              "    .dataframe tbody tr th:only-of-type {\n",
              "        vertical-align: middle;\n",
              "    }\n",
              "\n",
              "    .dataframe tbody tr th {\n",
              "        vertical-align: top;\n",
              "    }\n",
              "\n",
              "    .dataframe thead th {\n",
              "        text-align: right;\n",
              "    }\n",
              "</style>\n",
              "<table border=\"1\" class=\"dataframe\">\n",
              "  <thead>\n",
              "    <tr style=\"text-align: right;\">\n",
              "      <th></th>\n",
              "      <th>Word</th>\n",
              "      <th>Count</th>\n",
              "    </tr>\n",
              "  </thead>\n",
              "  <tbody>\n",
              "    <tr>\n",
              "      <th>0</th>\n",
              "      <td>love</td>\n",
              "      <td>912</td>\n",
              "    </tr>\n",
              "    <tr>\n",
              "      <th>1</th>\n",
              "      <td>miley</td>\n",
              "      <td>836</td>\n",
              "    </tr>\n",
              "    <tr>\n",
              "      <th>2</th>\n",
              "      <td>nt</td>\n",
              "      <td>819</td>\n",
              "    </tr>\n",
              "    <tr>\n",
              "      <th>3</th>\n",
              "      <td>u</td>\n",
              "      <td>647</td>\n",
              "    </tr>\n",
              "    <tr>\n",
              "      <th>4</th>\n",
              "      <td>m</td>\n",
              "      <td>590</td>\n",
              "    </tr>\n",
              "    <tr>\n",
              "      <th>5</th>\n",
              "      <td>good</td>\n",
              "      <td>501</td>\n",
              "    </tr>\n",
              "    <tr>\n",
              "      <th>6</th>\n",
              "      <td>vote</td>\n",
              "      <td>371</td>\n",
              "    </tr>\n",
              "    <tr>\n",
              "      <th>7</th>\n",
              "      <td>come</td>\n",
              "      <td>327</td>\n",
              "    </tr>\n",
              "    <tr>\n",
              "      <th>8</th>\n",
              "      <td>s</td>\n",
              "      <td>296</td>\n",
              "    </tr>\n",
              "    <tr>\n",
              "      <th>9</th>\n",
              "      <td>hope</td>\n",
              "      <td>288</td>\n",
              "    </tr>\n",
              "    <tr>\n",
              "      <th>10</th>\n",
              "      <td>like</td>\n",
              "      <td>252</td>\n",
              "    </tr>\n",
              "    <tr>\n",
              "      <th>11</th>\n",
              "      <td>win</td>\n",
              "      <td>246</td>\n",
              "    </tr>\n",
              "    <tr>\n",
              "      <th>12</th>\n",
              "      <td>award</td>\n",
              "      <td>225</td>\n",
              "    </tr>\n",
              "    <tr>\n",
              "      <th>13</th>\n",
              "      <td>movie</td>\n",
              "      <td>218</td>\n",
              "    </tr>\n",
              "    <tr>\n",
              "      <th>14</th>\n",
              "      <td>want</td>\n",
              "      <td>203</td>\n",
              "    </tr>\n",
              "  </tbody>\n",
              "</table>\n",
              "</div>"
            ],
            "text/plain": [
              "     Word  Count\n",
              "0    love    912\n",
              "1   miley    836\n",
              "2      nt    819\n",
              "3       u    647\n",
              "4       m    590\n",
              "5    good    501\n",
              "6    vote    371\n",
              "7    come    327\n",
              "8       s    296\n",
              "9    hope    288\n",
              "10   like    252\n",
              "11    win    246\n",
              "12  award    225\n",
              "13  movie    218\n",
              "14   want    203"
            ]
          },
          "metadata": {},
          "execution_count": 45
        }
      ]
    },
    {
      "cell_type": "code",
      "metadata": {
        "colab": {
          "base_uri": "https://localhost:8080/",
          "height": 548
        },
        "id": "iwvGcNRcATOG",
        "outputId": "8961f7b3-3939-4ce4-97ab-9ff17c56e27f"
      },
      "source": [
        "strCorpus2 = listToString(corpus2)\n",
        "\n",
        "print('Palabras mas utilizadas para ' + top_3_mentions.Mentions[1] + '\\n')\n",
        "rep_words(strCorpus2, k)"
      ],
      "execution_count": 46,
      "outputs": [
        {
          "output_type": "stream",
          "text": [
            "Palabras mas utilizadas para @tommcfly\n",
            "\n"
          ],
          "name": "stdout"
        },
        {
          "output_type": "execute_result",
          "data": {
            "text/html": [
              "<div>\n",
              "<style scoped>\n",
              "    .dataframe tbody tr th:only-of-type {\n",
              "        vertical-align: middle;\n",
              "    }\n",
              "\n",
              "    .dataframe tbody tr th {\n",
              "        vertical-align: top;\n",
              "    }\n",
              "\n",
              "    .dataframe thead th {\n",
              "        text-align: right;\n",
              "    }\n",
              "</style>\n",
              "<table border=\"1\" class=\"dataframe\">\n",
              "  <thead>\n",
              "    <tr style=\"text-align: right;\">\n",
              "      <th></th>\n",
              "      <th>Word</th>\n",
              "      <th>Count</th>\n",
              "    </tr>\n",
              "  </thead>\n",
              "  <tbody>\n",
              "    <tr>\n",
              "      <th>0</th>\n",
              "      <td>nt</td>\n",
              "      <td>795</td>\n",
              "    </tr>\n",
              "    <tr>\n",
              "      <th>1</th>\n",
              "      <td>tom</td>\n",
              "      <td>688</td>\n",
              "    </tr>\n",
              "    <tr>\n",
              "      <th>2</th>\n",
              "      <td>m</td>\n",
              "      <td>462</td>\n",
              "    </tr>\n",
              "    <tr>\n",
              "      <th>3</th>\n",
              "      <td>love</td>\n",
              "      <td>461</td>\n",
              "    </tr>\n",
              "    <tr>\n",
              "      <th>4</th>\n",
              "      <td>come</td>\n",
              "      <td>373</td>\n",
              "    </tr>\n",
              "    <tr>\n",
              "      <th>5</th>\n",
              "      <td>good</td>\n",
              "      <td>352</td>\n",
              "    </tr>\n",
              "    <tr>\n",
              "      <th>6</th>\n",
              "      <td>u</td>\n",
              "      <td>344</td>\n",
              "    </tr>\n",
              "    <tr>\n",
              "      <th>7</th>\n",
              "      <td>xx</td>\n",
              "      <td>304</td>\n",
              "    </tr>\n",
              "    <tr>\n",
              "      <th>8</th>\n",
              "      <td>guy</td>\n",
              "      <td>274</td>\n",
              "    </tr>\n",
              "    <tr>\n",
              "      <th>9</th>\n",
              "      <td>x</td>\n",
              "      <td>271</td>\n",
              "    </tr>\n",
              "    <tr>\n",
              "      <th>10</th>\n",
              "      <td>haha</td>\n",
              "      <td>262</td>\n",
              "    </tr>\n",
              "    <tr>\n",
              "      <th>11</th>\n",
              "      <td>like</td>\n",
              "      <td>254</td>\n",
              "    </tr>\n",
              "    <tr>\n",
              "      <th>12</th>\n",
              "      <td>reply</td>\n",
              "      <td>242</td>\n",
              "    </tr>\n",
              "    <tr>\n",
              "      <th>13</th>\n",
              "      <td>fan</td>\n",
              "      <td>224</td>\n",
              "    </tr>\n",
              "    <tr>\n",
              "      <th>14</th>\n",
              "      <td>brazil</td>\n",
              "      <td>222</td>\n",
              "    </tr>\n",
              "  </tbody>\n",
              "</table>\n",
              "</div>"
            ],
            "text/plain": [
              "      Word  Count\n",
              "0       nt    795\n",
              "1      tom    688\n",
              "2        m    462\n",
              "3     love    461\n",
              "4     come    373\n",
              "5     good    352\n",
              "6        u    344\n",
              "7       xx    304\n",
              "8      guy    274\n",
              "9        x    271\n",
              "10    haha    262\n",
              "11    like    254\n",
              "12   reply    242\n",
              "13     fan    224\n",
              "14  brazil    222"
            ]
          },
          "metadata": {},
          "execution_count": 46
        }
      ]
    },
    {
      "cell_type": "code",
      "metadata": {
        "colab": {
          "base_uri": "https://localhost:8080/",
          "height": 548
        },
        "id": "BI6KFEONATHU",
        "outputId": "e9debb24-0e44-48a8-f1fb-55ac2e120bbe"
      },
      "source": [
        "strCorpus3 = listToString(corpus3)\n",
        "\n",
        "print('Palabras mas utilizadas para ' + top_3_mentions.Mentions[2] + '\\n')\n",
        "rep_words(strCorpus3, k)"
      ],
      "execution_count": 47,
      "outputs": [
        {
          "output_type": "stream",
          "text": [
            "Palabras mas utilizadas para @ddlovato\n",
            "\n"
          ],
          "name": "stdout"
        },
        {
          "output_type": "execute_result",
          "data": {
            "text/html": [
              "<div>\n",
              "<style scoped>\n",
              "    .dataframe tbody tr th:only-of-type {\n",
              "        vertical-align: middle;\n",
              "    }\n",
              "\n",
              "    .dataframe tbody tr th {\n",
              "        vertical-align: top;\n",
              "    }\n",
              "\n",
              "    .dataframe thead th {\n",
              "        text-align: right;\n",
              "    }\n",
              "</style>\n",
              "<table border=\"1\" class=\"dataframe\">\n",
              "  <thead>\n",
              "    <tr style=\"text-align: right;\">\n",
              "      <th></th>\n",
              "      <th>Word</th>\n",
              "      <th>Count</th>\n",
              "    </tr>\n",
              "  </thead>\n",
              "  <tbody>\n",
              "    <tr>\n",
              "      <th>0</th>\n",
              "      <td>nt</td>\n",
              "      <td>761</td>\n",
              "    </tr>\n",
              "    <tr>\n",
              "      <th>1</th>\n",
              "      <td>love</td>\n",
              "      <td>630</td>\n",
              "    </tr>\n",
              "    <tr>\n",
              "      <th>2</th>\n",
              "      <td>demi</td>\n",
              "      <td>579</td>\n",
              "    </tr>\n",
              "    <tr>\n",
              "      <th>3</th>\n",
              "      <td>m</td>\n",
              "      <td>530</td>\n",
              "    </tr>\n",
              "    <tr>\n",
              "      <th>4</th>\n",
              "      <td>u</td>\n",
              "      <td>446</td>\n",
              "    </tr>\n",
              "    <tr>\n",
              "      <th>5</th>\n",
              "      <td>come</td>\n",
              "      <td>367</td>\n",
              "    </tr>\n",
              "    <tr>\n",
              "      <th>6</th>\n",
              "      <td>s</td>\n",
              "      <td>289</td>\n",
              "    </tr>\n",
              "    <tr>\n",
              "      <th>7</th>\n",
              "      <td>good</td>\n",
              "      <td>258</td>\n",
              "    </tr>\n",
              "    <tr>\n",
              "      <th>8</th>\n",
              "      <td>wish</td>\n",
              "      <td>256</td>\n",
              "    </tr>\n",
              "    <tr>\n",
              "      <th>9</th>\n",
              "      <td>hope</td>\n",
              "      <td>245</td>\n",
              "    </tr>\n",
              "    <tr>\n",
              "      <th>10</th>\n",
              "      <td>wait</td>\n",
              "      <td>233</td>\n",
              "    </tr>\n",
              "    <tr>\n",
              "      <th>11</th>\n",
              "      <td>like</td>\n",
              "      <td>232</td>\n",
              "    </tr>\n",
              "    <tr>\n",
              "      <th>12</th>\n",
              "      <td>amazing</td>\n",
              "      <td>191</td>\n",
              "    </tr>\n",
              "    <tr>\n",
              "      <th>13</th>\n",
              "      <td>ur</td>\n",
              "      <td>190</td>\n",
              "    </tr>\n",
              "    <tr>\n",
              "      <th>14</th>\n",
              "      <td>want</td>\n",
              "      <td>189</td>\n",
              "    </tr>\n",
              "  </tbody>\n",
              "</table>\n",
              "</div>"
            ],
            "text/plain": [
              "       Word  Count\n",
              "0        nt    761\n",
              "1      love    630\n",
              "2      demi    579\n",
              "3         m    530\n",
              "4         u    446\n",
              "5      come    367\n",
              "6         s    289\n",
              "7      good    258\n",
              "8      wish    256\n",
              "9      hope    245\n",
              "10     wait    233\n",
              "11     like    232\n",
              "12  amazing    191\n",
              "13       ur    190\n",
              "14     want    189"
            ]
          },
          "metadata": {},
          "execution_count": 47
        }
      ]
    },
    {
      "cell_type": "markdown",
      "metadata": {
        "id": "Ym0uE2TFDfWK"
      },
      "source": [
        "### WORDCLOUD"
      ]
    },
    {
      "cell_type": "code",
      "metadata": {
        "id": "3MTo08J1_ndT"
      },
      "source": [
        "def word_cloud(strCorpus, username, k):\n",
        "  stopwords = set(STOPWORDS)\n",
        "\n",
        "  wordcloud = WordCloud(width = 800, height = 800,\n",
        "                        background_color ='white',\n",
        "                        stopwords = stopwords,\n",
        "                        max_words = k,\n",
        "                        min_font_size = 10).generate(strCorpus)\n",
        "\n",
        "  # Plot WordCloud image\t\t\t\t\t\n",
        "  #plt.figure(figsize = (8, 8), facecolor = None)\n",
        "  plt.imshow(wordcloud)\n",
        "  plt.title('WORDCLOUD DE ' + username + '\\n', fontdict={\"fontsize\":20, \"color\":\"red\", \"fontweight\":\"bold\"}) \n",
        "  plt.axis(\"off\")\n",
        "  plt.tight_layout(pad = 0)\n",
        "\n",
        "  plt.show()"
      ],
      "execution_count": 36,
      "outputs": []
    },
    {
      "cell_type": "code",
      "metadata": {
        "colab": {
          "base_uri": "https://localhost:8080/",
          "height": 319
        },
        "id": "J5-eQym9G6Bx",
        "outputId": "1b563620-fe25-40db-a2e2-b6ae6728beb3"
      },
      "source": [
        "word_cloud(strCorpus1, top_3_mentions.Mentions[0], k)"
      ],
      "execution_count": 37,
      "outputs": [
        {
          "output_type": "display_data",
          "data": {
            "image/png": "[encoded data removed]",
            "text/plain": [
              "<Figure size 432x288 with 1 Axes>"
            ]
          },
          "metadata": {
            "needs_background": "light"
          }
        }
      ]
    },
    {
      "cell_type": "code",
      "metadata": {
        "colab": {
          "base_uri": "https://localhost:8080/",
          "height": 319
        },
        "id": "BRLk2PY3HQ9E",
        "outputId": "26d31378-5a72-4aad-8004-0cb29f00a513"
      },
      "source": [
        "word_cloud(strCorpus2, top_3_mentions.Mentions[1], k)"
      ],
      "execution_count": 38,
      "outputs": [
        {
          "output_type": "display_data",
          "data": {
            "image/png": "[encoded data removed]",
            "text/plain": [
              "<Figure size 432x288 with 1 Axes>"
            ]
          },
          "metadata": {
            "needs_background": "light"
          }
        }
      ]
    },
    {
      "cell_type": "code",
      "metadata": {
        "colab": {
          "base_uri": "https://localhost:8080/",
          "height": 319
        },
        "id": "0IFLtg-wHR1E",
        "outputId": "4cab0a29-ccc3-4921-b4f1-9e7bb01ae682"
      },
      "source": [
        "word_cloud(strCorpus3, top_3_mentions.Mentions[2], k)"
      ],
      "execution_count": 39,
      "outputs": [
        {
          "output_type": "display_data",
          "data": {
            "image/png": "[encoded data removed]",
            "text/plain": [
              "<Figure size 432x288 with 1 Axes>"
            ]
          },
          "metadata": {
            "needs_background": "light"
          }
        }
      ]
    },
    {
      "cell_type": "code",
      "metadata": {
        "id": "W1rKYFSZOGW0"
      },
      "source": [
        ""
      ],
      "execution_count": 43,
      "outputs": []
    }
  ]
}